{
 "cells": [
  {
   "cell_type": "code",
   "execution_count": 215,
   "id": "32522982-a635-402e-b9c9-2f6817e4dfa6",
   "metadata": {},
   "outputs": [],
   "source": [
    "import torch\n",
    "import torch.nn as nn\n",
    "import torch.optim as optim\n",
    "from torch.utils.data import DataLoader, Dataset"
   ]
  },
  {
   "cell_type": "code",
   "execution_count": 216,
   "id": "97d29db4-e871-47f4-beba-67c18060e7c6",
   "metadata": {},
   "outputs": [],
   "source": [
    "import pandas as pd\n",
    "import numpy as np\n"
   ]
  },
  {
   "cell_type": "code",
   "execution_count": 217,
   "id": "ea8cef04-52a9-4c0b-83c9-a202392d4cd6",
   "metadata": {},
   "outputs": [],
   "source": [
    "SEED = 190401081\n",
    "torch . manual_seed ( SEED )\n",
    "np . random . seed ( SEED )\n",
    "\n",
    "#dataset\n",
    "train_data = pd.read_csv('cure_the_princess_test.csv')\n",
    "valid_data = pd.read_csv('cure_the_princess_validation.csv')\n",
    "test_data = pd.read_csv('cure_the_princess_test.csv')"
   ]
  },
  {
   "cell_type": "code",
   "execution_count": 218,
   "id": "8958ad6a-911c-4a8a-927f-a0a8a4d7af45",
   "metadata": {},
   "outputs": [],
   "source": [
    "input_size = len(train_data.columns) - 1\n",
    "\n",
    "class CustomDataset(Dataset):\n",
    "    def __init__(self, data):\n",
    "        self.X = data.iloc[:, :-1].values\n",
    "        self.y = data.iloc[:, -1].values.reshape(-1, 1)\n",
    "\n",
    "    def __len__(self):\n",
    "        return len(self.X)\n",
    "\n",
    "    def __getitem__(self, index):\n",
    "        return torch.tensor(self.X[index], dtype=torch.float), torch.tensor(self.y[index], dtype=torch.float)\n",
    "\n",
    "train_dataset = CustomDataset(train_data)\n",
    "valid_dataset = CustomDataset(valid_data)\n",
    "test_dataset = CustomDataset(test_data)\n"
   ]
  },
  {
   "cell_type": "code",
   "execution_count": 219,
   "id": "4a0d79b8-4a55-496c-952b-0705521da673",
   "metadata": {},
   "outputs": [],
   "source": [
    "class MLP(nn.Module):\n",
    "    def __init__(self, input_size, hidden_size1, hidden_size2, output_size):\n",
    "        super().__init__()\n",
    "        self.hidden_layer1 = nn.Linear(input_size, hidden_size1)\n",
    "        self.hidden_layer2 = nn.Linear(hidden_size1, hidden_size2)\n",
    "        self.output_layer = nn.Linear(hidden_size2, output_size)\n",
    "\n",
    "        self.relu = nn.ReLU()\n",
    "        self.sigmoid = nn.Sigmoid()\n",
    "\n",
    "    def forward(self, x):\n",
    "        x = self.relu(self.hidden_layer1(x))\n",
    "        x = self.relu(self.hidden_layer2(x))\n",
    "        x = self.sigmoid(self.output_layer(x))\n",
    "        return x\n"
   ]
  },
  {
   "cell_type": "code",
   "execution_count": 220,
   "id": "9ce27149-7cc9-44ac-b800-078b2fc29be3",
   "metadata": {},
   "outputs": [],
   "source": [
    "output_size = len(np.unique(train_data.iloc[:, -1].values))\n",
    "model = MLP(input_size=input_size, hidden_size1=100, hidden_size2=50, output_size=output_size)\n",
    "\n",
    "criterion = nn.CrossEntropyLoss()\n",
    "\n",
    "optimizer = optim.SGD(model.parameters(), lr=0.01)\n"
   ]
  },
  {
   "cell_type": "code",
   "execution_count": 221,
   "id": "b65562c9-cd7f-452e-a807-c9037bd16586",
   "metadata": {},
   "outputs": [],
   "source": [
    "\n",
    "train_loss_list, valid_loss_list = [], []\n",
    "\n",
    "def train(model, dataloader, criterion, optimizer):\n",
    "    model.train()\n",
    "    train_loss = 0.0\n",
    "    train_acc = 0.0\n",
    "    total = 0\n",
    "\n",
    "    for inputs, targets in dataloader:\n",
    "        optimizer.zero_grad()\n",
    "        outputs = model(inputs)\n",
    "        loss = criterion(outputs, targets.squeeze().long())\n",
    "        loss.backward()\n",
    "        optimizer.step()\n",
    "        predicted = torch.max(outputs, 1)[1]\n",
    "        total += targets.size(0)\n",
    "        train_acc += (predicted == targets.squeeze().long()).sum().item()\n",
    "        train_loss += loss.item() * inputs.size(0)\n",
    "\n",
    "\n",
    "    return train_loss / total, train_acc / total\n"
   ]
  },
  {
   "cell_type": "code",
   "execution_count": 222,
   "id": "37b63edd-2ff0-400d-b4d7-0d20bf738d68",
   "metadata": {},
   "outputs": [],
   "source": [
    "def evaluate(model, dataloader, criterion):\n",
    "    valid_loss = 0\n",
    "    valid_acc = 0\n",
    "    total = 0\n",
    "\n",
    "    model.eval()\n",
    "\n",
    "    with torch.no_grad():\n",
    "        for inputs, targets in dataloader:\n",
    "            outputs = model(inputs)\n",
    "            loss = criterion(outputs, targets.squeeze().long())\n",
    "            total += targets.size(0)\n",
    "            predicted = torch.max(outputs, 1)[1]\n",
    "            valid_acc += (predicted == targets.squeeze().long()).sum().item()\n",
    "            valid_loss += loss.item() * inputs.size(0)\n",
    "\n",
    "    return valid_loss / total, valid_acc / total\n"
   ]
  },
  {
   "cell_type": "code",
   "execution_count": 223,
   "id": "ab057262-dccd-47da-a8a2-2445c7ff5959",
   "metadata": {},
   "outputs": [
    {
     "name": "stdout",
     "output_type": "stream",
     "text": [
      "Epoch: 1/50  Train Loss: 0.6738  Train Acc: 62.05%  Valid Loss: 0.6535  Valid Acc: 68.79%\n",
      "Epoch: 2/50  Train Loss: 0.6374  Train Acc: 69.43%  Valid Loss: 0.6175  Valid Acc: 75.48%\n",
      "Epoch: 3/50  Train Loss: 0.6061  Train Acc: 73.32%  Valid Loss: 0.5980  Valid Acc: 69.75%\n",
      "Epoch: 4/50  Train Loss: 0.5737  Train Acc: 76.17%  Valid Loss: 0.5677  Valid Acc: 74.52%\n",
      "Epoch: 5/50  Train Loss: 0.5500  Train Acc: 77.98%  Valid Loss: 0.5378  Valid Acc: 78.34%\n",
      "Epoch: 6/50  Train Loss: 0.5299  Train Acc: 81.22%  Valid Loss: 0.5073  Valid Acc: 86.94%\n",
      "Epoch: 7/50  Train Loss: 0.5086  Train Acc: 83.55%  Valid Loss: 0.4827  Valid Acc: 88.54%\n",
      "Epoch: 8/50  Train Loss: 0.4922  Train Acc: 85.62%  Valid Loss: 0.5794  Valid Acc: 69.75%\n",
      "Epoch: 9/50  Train Loss: 0.4825  Train Acc: 86.53%  Valid Loss: 0.4830  Valid Acc: 82.48%\n",
      "Epoch: 10/50  Train Loss: 0.4671  Train Acc: 87.95%  Valid Loss: 0.4473  Valid Acc: 90.45%\n",
      "Epoch: 11/50  Train Loss: 0.4555  Train Acc: 87.69%  Valid Loss: 0.4512  Valid Acc: 87.58%\n",
      "Epoch: 12/50  Train Loss: 0.4507  Train Acc: 89.51%  Valid Loss: 0.4237  Valid Acc: 92.36%\n",
      "Epoch: 13/50  Train Loss: 0.4403  Train Acc: 89.64%  Valid Loss: 0.4201  Valid Acc: 91.72%\n",
      "Epoch: 14/50  Train Loss: 0.4326  Train Acc: 90.03%  Valid Loss: 0.4184  Valid Acc: 91.40%\n",
      "Epoch: 15/50  Train Loss: 0.4284  Train Acc: 90.03%  Valid Loss: 0.4163  Valid Acc: 91.08%\n",
      "Epoch: 16/50  Train Loss: 0.4231  Train Acc: 90.93%  Valid Loss: 0.4801  Valid Acc: 81.85%\n",
      "Epoch: 17/50  Train Loss: 0.4250  Train Acc: 90.67%  Valid Loss: 0.4330  Valid Acc: 89.17%\n",
      "Epoch: 18/50  Train Loss: 0.4148  Train Acc: 91.19%  Valid Loss: 0.4113  Valid Acc: 91.40%\n",
      "Epoch: 19/50  Train Loss: 0.4106  Train Acc: 92.49%  Valid Loss: 0.4031  Valid Acc: 92.04%\n",
      "Epoch: 20/50  Train Loss: 0.4101  Train Acc: 91.71%  Valid Loss: 0.3992  Valid Acc: 92.36%\n",
      "Epoch: 21/50  Train Loss: 0.4028  Train Acc: 93.13%  Valid Loss: 0.4040  Valid Acc: 92.04%\n",
      "Epoch: 22/50  Train Loss: 0.4036  Train Acc: 92.49%  Valid Loss: 0.4138  Valid Acc: 90.76%\n",
      "Epoch: 23/50  Train Loss: 0.4010  Train Acc: 93.01%  Valid Loss: 0.4014  Valid Acc: 91.72%\n",
      "Epoch: 24/50  Train Loss: 0.3955  Train Acc: 93.13%  Valid Loss: 0.3968  Valid Acc: 92.68%\n",
      "Epoch: 25/50  Train Loss: 0.3922  Train Acc: 93.91%  Valid Loss: 0.4697  Valid Acc: 82.80%\n",
      "Epoch: 26/50  Train Loss: 0.3935  Train Acc: 93.65%  Valid Loss: 0.3937  Valid Acc: 92.36%\n",
      "Epoch: 27/50  Train Loss: 0.3880  Train Acc: 94.04%  Valid Loss: 0.3930  Valid Acc: 92.36%\n",
      "Epoch: 28/50  Train Loss: 0.3873  Train Acc: 94.43%  Valid Loss: 0.4011  Valid Acc: 91.08%\n",
      "Epoch: 29/50  Train Loss: 0.3850  Train Acc: 94.43%  Valid Loss: 0.3910  Valid Acc: 92.99%\n",
      "Epoch: 30/50  Train Loss: 0.3840  Train Acc: 94.30%  Valid Loss: 0.3912  Valid Acc: 92.36%\n",
      "Epoch: 31/50  Train Loss: 0.3826  Train Acc: 94.04%  Valid Loss: 0.4001  Valid Acc: 90.76%\n",
      "Epoch: 32/50  Train Loss: 0.3801  Train Acc: 95.34%  Valid Loss: 0.3948  Valid Acc: 91.72%\n",
      "Epoch: 33/50  Train Loss: 0.3787  Train Acc: 94.82%  Valid Loss: 0.4276  Valid Acc: 87.90%\n",
      "Epoch: 34/50  Train Loss: 0.3769  Train Acc: 94.82%  Valid Loss: 0.4028  Valid Acc: 90.45%\n",
      "Epoch: 35/50  Train Loss: 0.3759  Train Acc: 95.21%  Valid Loss: 0.3883  Valid Acc: 93.31%\n",
      "Epoch: 36/50  Train Loss: 0.3748  Train Acc: 95.34%  Valid Loss: 0.3926  Valid Acc: 92.36%\n",
      "Epoch: 37/50  Train Loss: 0.3732  Train Acc: 95.21%  Valid Loss: 0.3859  Valid Acc: 92.99%\n",
      "Epoch: 38/50  Train Loss: 0.3712  Train Acc: 95.73%  Valid Loss: 0.3965  Valid Acc: 92.04%\n",
      "Epoch: 39/50  Train Loss: 0.3708  Train Acc: 95.98%  Valid Loss: 0.3942  Valid Acc: 90.45%\n",
      "Epoch: 40/50  Train Loss: 0.3712  Train Acc: 94.95%  Valid Loss: 0.3844  Valid Acc: 93.95%\n",
      "Epoch: 41/50  Train Loss: 0.3684  Train Acc: 95.73%  Valid Loss: 0.3885  Valid Acc: 92.36%\n",
      "Epoch: 42/50  Train Loss: 0.3664  Train Acc: 95.73%  Valid Loss: 0.3939  Valid Acc: 92.99%\n",
      "Epoch: 43/50  Train Loss: 0.3670  Train Acc: 95.85%  Valid Loss: 0.3850  Valid Acc: 92.68%\n",
      "Epoch: 44/50  Train Loss: 0.3670  Train Acc: 95.47%  Valid Loss: 0.3868  Valid Acc: 93.31%\n",
      "Epoch: 45/50  Train Loss: 0.3651  Train Acc: 96.24%  Valid Loss: 0.3859  Valid Acc: 92.99%\n",
      "Epoch: 46/50  Train Loss: 0.3626  Train Acc: 96.24%  Valid Loss: 0.3864  Valid Acc: 92.36%\n",
      "Epoch: 47/50  Train Loss: 0.3632  Train Acc: 95.73%  Valid Loss: 0.3890  Valid Acc: 91.40%\n",
      "Epoch: 48/50  Train Loss: 0.3630  Train Acc: 95.85%  Valid Loss: 0.3947  Valid Acc: 91.72%\n",
      "Epoch: 49/50  Train Loss: 0.3624  Train Acc: 96.37%  Valid Loss: 0.3891  Valid Acc: 91.08%\n",
      "Epoch: 50/50  Train Loss: 0.3608  Train Acc: 96.24%  Valid Loss: 0.3831  Valid Acc: 92.99%\n"
     ]
    }
   ],
   "source": [
    "\n",
    "n_epochs = 50\n",
    "\n",
    "best_valid_loss = np.inf\n",
    "\n",
    "for epoch in range(n_epochs):\n",
    "    train_loss, train_acc = train(model, train_loader, criterion, optimizer)\n",
    "    valid_loss, valid_acc = evaluate(model, valid_loader, criterion)\n",
    "\n",
    "    if valid_loss < best_valid_loss:\n",
    "        best_valid_loss = valid_loss\n",
    "        torch.save(model.state_dict(), 'best_model.pt')\n",
    "\n",
    "    train_loss_list.append(train_loss)\n",
    "    valid_loss_list.append(valid_loss)\n",
    "\n",
    "    print('Epoch: {}/{}  Train Loss: {:.4f}  Train Acc: {:.2f}%  Valid Loss: {:.4f}  Valid Acc: {:.2f}%'.format(epoch+1, n_epochs, train_loss, train_acc*100, valid_loss, valid_acc*100))"
   ]
  },
  {
   "cell_type": "code",
   "execution_count": 224,
   "id": "848a9838-8f8c-453b-8a92-81875cebae1e",
   "metadata": {},
   "outputs": [
    {
     "data": {
      "text/plain": [
       "<All keys matched successfully>"
      ]
     },
     "execution_count": 224,
     "metadata": {},
     "output_type": "execute_result"
    }
   ],
   "source": [
    "model.load_state_dict(torch.load('best_model.pt'))"
   ]
  },
  {
   "cell_type": "code",
   "execution_count": 225,
   "id": "ff88f19a-63b0-443f-9aae-459f175d590a",
   "metadata": {},
   "outputs": [],
   "source": [
    "\n",
    "def test(model, dataloader, criterion):\n",
    "    test_loss = 0\n",
    "    test_acc = 0\n",
    "    total = 0\n",
    "\n",
    "    model.eval()\n",
    "\n",
    "    with torch.no_grad():\n",
    "        for inputs, targets in dataloader:\n",
    "            outputs = model(inputs)\n",
    "            loss = criterion(outputs, targets.squeeze().long()); predicted = torch.max(outputs, 1)\n",
    "\n",
    "            , predicted = torch.max(outputs, 1)\n",
    "            total += targets.size(0)\n",
    "            test_acc += (predicted == targets.squeeze().long()).sum().item()\n",
    "            test_loss += loss.item() * inputs.size(0)\n",
    "\n",
    "    return test_loss / total, test_acc / total\n"
   ]
  },
  {
   "cell_type": "code",
   "execution_count": 227,
   "id": "bb523c62-2956-4af8-afaf-94abc8477085",
   "metadata": {},
   "outputs": [
    {
     "name": "stdout",
     "output_type": "stream",
     "text": [
      "Test Loss: 0.3572 Test Acc: 96.89%\n"
     ]
    },
    {
     "data": {
      "image/png": "[encoded data removed]",
      "text/plain": [
       "<Figure size 640x480 with 1 Axes>"
      ]
     },
     "metadata": {},
     "output_type": "display_data"
    }
   ],
   "source": [
    "test_loss, test_acc = evaluate(model, test_loader, criterion)\n",
    "\n",
    "print('Test Loss: {:.4f} Test Acc: {:.2f}%'.format(test_loss, test_acc*100))\n",
    "import seaborn as sns\n",
    "import matplotlib.pyplot as plt\n",
    "\n",
    "train_loss, valid_loss = [], []\n",
    "\n",
    "sns.set_style(\"darkgrid\")\n",
    "plt.plot(train_loss, label=\"Training loss\")\n",
    "plt.plot(valid_loss, label=\"Validation loss\")\n",
    "plt.legend()\n",
    "plt.xlabel(\"Epoch\")\n",
    "plt.ylabel(\"Loss\")\n",
    "plt.show()\n"
   ]
  },
  {
   "cell_type": "code",
   "execution_count": 228,
   "id": "e7640556-2b7e-4b4d-a10c-05ad1e982e0e",
   "metadata": {},
   "outputs": [
    {
     "name": "stdout",
     "output_type": "stream",
     "text": [
      "CPU çalışma süresi: 0.00037288665771484375 saniye\n"
     ]
    }
   ],
   "source": [
    "import time\n",
    "\n",
    "start_time = time.time()\n",
    "\n",
    "end_time = time.time()\n",
    "print(\"CPU çalışma süresi:\", end_time - start_time, \"saniye\")\n"
   ]
  },
  {
   "cell_type": "code",
   "execution_count": null,
   "id": "b48b3354-d853-46bc-ad4b-be1d0609ff34",
   "metadata": {},
   "outputs": [],
   "source": [
    "start_time = time.time()\n",
    "\n",
    "\n",
    "device = torch.device(\"cuda\" if torch.cuda.is_available() else \"cpu\")\n",
    "model.to(device)\n",
    "inputs, labels = inputs.to(device), labels.to(device)\n",
    "\n",
    "end_time = time.time()\n",
    "print(\"GPU çalışma süresi:\", end_time - start_time, \"saniye\")\n"
   ]
  },
  {
   "cell_type": "code",
   "execution_count": 3,
   "id": "cd5d1a5c-a175-41f9-8b94-066a485a7c91",
   "metadata": {},
   "outputs": [
    {
     "ename": "SyntaxError",
     "evalue": "invalid character '’' (U+2019) (550033787.py, line 16)",
     "output_type": "error",
     "traceback": [
      "\u001b[0;36m  Cell \u001b[0;32mIn[3], line 16\u001b[0;36m\u001b[0m\n\u001b[0;31m    f1 = f1_score ( y_true , y_pred , average =’macro ’)\u001b[0m\n\u001b[0m                                               ^\u001b[0m\n\u001b[0;31mSyntaxError\u001b[0m\u001b[0;31m:\u001b[0m invalid character '’' (U+2019)\n"
     ]
    }
   ],
   "source": [
    "from sklearn . metrics import accuracy_score\n",
    "from sklearn . metrics import f1_score\n",
    "from sklearn . metrics import precision_score\n",
    "from sklearn . metrics import recall_score\n",
    "y_true = []\n",
    "y_pred = []\n",
    "with torch . no_grad ():\n",
    "    for data in test_loader :\n",
    "        inputs , labels = data\n",
    "        inputs , labels = inputs .to( device ), labels .to( device )\n",
    "        outputs = model ( inputs )\n",
    "        predicted = torch . argmax ( outputs , dim=1)\n",
    "        y_true += labels . cpu (). tolist ()\n",
    "        y_pred += predicted . cpu (). tolist ()\n",
    "accuracy = accuracy_score (y_true , y_pred )\n",
    "f1 = f1_score ( y_true , y_pred , average =’macro ’)\n",
    "precision = precision_score (y_true , y_pred , average =’macro ’)\n",
    "recall = recall_score ( y_true , y_pred , average =’macro ’)\n",
    "print (’Accuracy :’, accuracy )\n",
    "print (’F1 score :’, f1)\n",
    "print (’Precision :’, precision )\n",
    "print (’Recall :’, recall )"
   ]
  },
  {
   "cell_type": "code",
   "execution_count": 4,
   "id": "f391bf89-9fb5-4394-a848-e8f67f984dad",
   "metadata": {},
   "outputs": [
    {
     "ename": "NameError",
     "evalue": "name 'nn' is not defined",
     "output_type": "error",
     "traceback": [
      "\u001b[0;31m---------------------------------------------------------------------------\u001b[0m",
      "\u001b[0;31mNameError\u001b[0m                                 Traceback (most recent call last)",
      "Cell \u001b[0;32mIn[4], line 1\u001b[0m\n\u001b[0;32m----> 1\u001b[0m \u001b[38;5;28;01mclass\u001b[39;00m \u001b[38;5;21;01mRegularizedCrossEntropyLoss\u001b[39;00m(\u001b[43mnn\u001b[49m\u001b[38;5;241m.\u001b[39mModule):\n\u001b[1;32m      2\u001b[0m     \u001b[38;5;28;01mdef\u001b[39;00m \u001b[38;5;21m__init__\u001b[39m(\u001b[38;5;28mself\u001b[39m, l1_lambda, l2_lambda):\n\u001b[1;32m      3\u001b[0m         \u001b[38;5;28msuper\u001b[39m(RegularizedCrossEntropyLoss, \u001b[38;5;28mself\u001b[39m)\u001b[38;5;241m.\u001b[39m\u001b[38;5;21m__init__\u001b[39m()\n",
      "\u001b[0;31mNameError\u001b[0m: name 'nn' is not defined"
     ]
    }
   ],
   "source": [
    "\n",
    "class RegularizedCrossEntropyLoss(nn.Module):\n",
    "    def __init__(self, l1_lambda, l2_lambda):\n",
    "        super(RegularizedCrossEntropyLoss, self).__init__()\n",
    "        self.l1_lambda = l1_lambda\n",
    "        self.l2_lambda = l2_lambda\n",
    "        self.criterion = nn.CrossEntropyLoss()\n",
    "        \n",
    "    def forward(self, output, target, model):\n",
    "        l1_loss = 0\n",
    "        l2_loss = 0\n",
    "        for p in model.parameters():\n",
    "            l1_loss += p.abs().sum()\n",
    "            l2_loss += p.pow(2).sum()\n",
    "        return self.criterion(output, target) + self.l1_lambda * l1_loss + self.l2_lambda * l2_loss\n",
    "\n",
    "model = YourModel()\n",
    "\n",
    "criterion = RegularizedCrossEntropyLoss(l1_lambda=0.001, l2_lambda=0.001)\n",
    "\n",
    "optimizer = optim.SGD(model.parameters(), lr=0.01)\n",
    "\n",
    "for epoch in range(num_epochs):\n",
    "\n",
    "    model.train()\n",
    "    train_loss = 0\n",
    "    for batch_idx, (data, target) in enumerate(train_loader):\n",
    "        optimizer.zero_grad()\n",
    "        output = model(data)\n",
    "        loss = criterion(output, target, model)\n",
    "        train_loss += loss.item()\n",
    "        loss.backward()\n",
    "        optimizer.step()\n",
    "    avg_train_loss = train_loss / len(train_loader.dataset)\n"
   ]
  },
  {
   "cell_type": "code",
   "execution_count": null,
   "id": "f6f7c5f0-ce7a-470d-8848-8b6206625067",
   "metadata": {},
   "outputs": [],
   "source": []
  }
 ],
 "metadata": {
  "kernelspec": {
   "display_name": "Python 3 (ipykernel)",
   "language": "python",
   "name": "python3"
  },
  "language_info": {
   "codemirror_mode": {
    "name": "ipython",
    "version": 3
   },
   "file_extension": ".py",
   "mimetype": "text/x-python",
   "name": "python",
   "nbconvert_exporter": "python",
   "pygments_lexer": "ipython3",
   "version": "3.10.9"
  }
 },
 "nbformat": 4,
 "nbformat_minor": 5
}
